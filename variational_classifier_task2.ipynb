{
 "cells": [
  {
   "cell_type": "markdown",
   "id": "535d39c3-aa90-47ba-99f5-418c846514fe",
   "metadata": {},
   "source": [
    "# Variational Classifier with Quantum Circuits \n",
    "***Submitted by Disha Mondal***\n",
    "\n",
    "This tutorial, inspired by the Pennylane tutorial(cited below) demonstrates how to implement a variational classifier using quantum circuits.\n",
    "\n",
    "CITATION :\n",
    "@misc{MariaSchuld2019,\n",
    "      title = \"Variational classifier\",\n",
    "      author = \"Maria Schuld\",\n",
    "      year = \"2019\",\n",
    "      month = \"10\",\n",
    "      journal = \"PennyLane Demos\",\n",
    "      publisher = \"Xanadu\",\n",
    "      howpublished = \"\\url{https://pennylane.ai/qml/demos/tutorial_variational_classifier/}\",\n",
    "      note = \"Date Accessed: 2024-07-16\"\n",
    "    }\n",
    "\n",
    "The above mentioned tutorial is followed and implemented and each step is explained in own words.\n",
    "\n",
    "Overview:\n",
    "\n",
    "Learning variational classifiers with quantum circuits leverages quantum parallelism and entanglement to potentially solve certain types of complex problems more efficiently than classical classifiers, offering exponential speed-ups in specific tasks like factoring and simulating quantum systems, which are infeasible for classical methods. This approach can lead to advancements in areas such as cryptography, optimization, and machine learning.\n",
    "\n",
    "Abstract:\n",
    "\n",
    "The tutorial uses the examples of parity function that uses basis encoding and iris classifier that uses amplitude encoding to demonstrate variational circuits as supervised machine learning models.\n",
    "# EXAMPLE 1 : FITTING THE PARITY FUNCTION\n",
    "\n",
    "We will implement a quantum machine learning model to classify bitstrings using the parity function. We will use the PennyLane library to build and train our quantum classifier.\n",
    "\n",
    "*Basis encoding* in quantum computing involves mapping classical data directly onto the computational basis states of qubits, where each bit in the data corresponds to a specific qubit's state (0 or 1). This method is efficient for representing discrete data but requires a number of qubits equal to the length of the bitstring, making it less scalable for large datasets.\n",
    "\n",
    "## Step 1: Imports and Setup\n",
    "In this step, we import the necessary libraries and set up the quantum device.\n",
    "We start by importing the necessary libraries:\n",
    "- PennyLane: A library for quantum machine learning.\n",
    "- NumPy: A library for numerical operations.\n",
    "- NesterovMomentumOptimizer: An optimizer for training the model(Nesterov Momentum works like the Momentum optimizer, but shifts the current input by the momentum term when computing the gradient of the objective function).\n"
   ]
  },
  {
   "cell_type": "code",
   "execution_count": 1,
   "id": "da5b2fad-df44-445a-b9c8-7cf2f24ef28c",
   "metadata": {},
   "outputs": [],
   "source": [
    "import pennylane as qml\n",
    "from pennylane import numpy as np\n",
    "from pennylane.optimize import NesterovMomentumOptimizer"
   ]
  },
  {
   "cell_type": "markdown",
   "id": "7cdfc281-d345-44d3-b3ef-e4c5148914a3",
   "metadata": {},
   "source": [
    "Next, we create a quantum device that will run our circuits. We will use the default qubit simulator provided by PennyLane."
   ]
  },
  {
   "cell_type": "code",
   "execution_count": 2,
   "id": "da4a5f97-dbbd-48dd-b569-88ff80eabeb0",
   "metadata": {},
   "outputs": [],
   "source": [
    "dev = qml.device(\"default.qubit\")"
   ]
  },
  {
   "cell_type": "markdown",
   "id": "6669d9be-aecc-4bfc-8a6c-64351b63aa04",
   "metadata": {},
   "source": [
    "## Step 2: Circuit Layer\n",
    "\n",
    "We define a layer or block, which is a small circuit that will be repeated to build the full variational circuit. Our layer consists of an arbitrary rotation on each qubit followed by a ring of CNOT gates to entangle the qubits.\n",
    "\n",
    "Entanglement in quantum circuits, achieved through operations like CNOT gates, is crucial for distributing and correlating quantum information across qubits. It enables quantum algorithms to exploit quantum parallelism and potentially achieve computational advantages over classical counterparts by processing states that are inherently interconnected and interdependent."
   ]
  },
  {
   "cell_type": "code",
   "execution_count": 3,
   "id": "e3c45afb-9247-4aad-8968-c76f04fe855b",
   "metadata": {},
   "outputs": [],
   "source": [
    "def layer(layer_weights):\n",
    "    for wire in range(4):\n",
    "        qml.Rot(*layer_weights[wire], wires=wire)\n",
    "\n",
    "    for wires in ([0, 1], [1, 2], [2, 3], [3, 0]):\n",
    "        qml.CNOT(wires)"
   ]
  },
  {
   "cell_type": "markdown",
   "id": "f21e3511-e1aa-4c95-a0a1-3776a0102e94",
   "metadata": {},
   "source": [
    "## Step 3: State Preparation\n",
    "We need a way to encode data inputs into the circuit. The state_preparation function uses the BasisState function(prepares a basis state on the given wires using a sequence of Pauli-X gates) to set the quantum state according to the input bitstring."
   ]
  },
  {
   "cell_type": "code",
   "execution_count": 4,
   "id": "e4db7955-ece5-45fb-85f0-55bcb02152ad",
   "metadata": {},
   "outputs": [],
   "source": [
    "def state_preparation(x):\n",
    "    qml.BasisState(x, wires=[0, 1, 2, 3])"
   ]
  },
  {
   "cell_type": "markdown",
   "id": "b75344b4-ceb7-4493-885d-9fa0e17f8fa0",
   "metadata": {},
   "source": [
    "## Step 4: Variational Quantum Circuit\n",
    "We define the variational quantum circuit, which consists of the state preparation followed by the repeated layers.\n",
    "The function expval(op) gives expectation value of the supplied observable."
   ]
  },
  {
   "cell_type": "code",
   "execution_count": 5,
   "id": "e3d44a0e-2aa5-4dcb-88fd-b81b6a030df7",
   "metadata": {},
   "outputs": [],
   "source": [
    "@qml.qnode(dev)\n",
    "def circuit(weights, x):\n",
    "    state_preparation(x)\n",
    "    for layer_weights in weights:\n",
    "        layer(layer_weights)\n",
    "    return qml.expval(qml.PauliZ(0))"
   ]
  },
  {
   "cell_type": "markdown",
   "id": "90bd33b3-45d3-4e92-8cb7-18e69d360d3f",
   "metadata": {},
   "source": [
    "## Step 5: Variational Classifier\n",
    "To make our model more flexible, we add a classical bias parameter and define the full model as the sum of the quantum circuit output and the bias.\n",
    "\n",
    "Adding a classical bias parameter allows the variational classifier to shift and fine-tune the decision boundary of the quantum circuit output, enhancing its flexibility and adaptability to different classification tasks. This step is crucial as it enables the quantum model to better fit complex data distributions by adjusting the decision-making process beyond the intrinsic capabilities of the quantum circuit alone."
   ]
  },
  {
   "cell_type": "code",
   "execution_count": 6,
   "id": "b2a7107c-22da-487e-bf78-14784b1ae032",
   "metadata": {},
   "outputs": [],
   "source": [
    "def variational_classifier(weights, bias, x):\n",
    "    return circuit(weights, x) + bias"
   ]
  },
  {
   "cell_type": "markdown",
   "id": "e55046cd-2df8-47c8-91a0-896cab237296",
   "metadata": {},
   "source": [
    "## Step 6: Cost Function\n",
    "In supervised learning, we need a cost function to measure the difference between the model's predictions and the actual labels. We use the square loss function for this purpose. The cost function is usually the sum of a loss function and a regularizer (a term added to the cost function to penalize complex models, promoting simplicity and preventing overfitting by discouraging large parameter values)."
   ]
  },
  {
   "cell_type": "code",
   "execution_count": 7,
   "id": "a831c1de-5be7-456b-923b-4bdd45bf08d9",
   "metadata": {},
   "outputs": [],
   "source": [
    "def square_loss(labels, predictions):\n",
    "    return np.mean((labels - qml.math.stack(predictions)) ** 2)"
   ]
  },
  {
   "cell_type": "markdown",
   "id": "3f341915-8914-4181-8057-00b09dc70e83",
   "metadata": {},
   "source": [
    "## Step 7: Accuracy\n",
    "We also define a function to compute the accuracy of our model, which is the proportion of correctly classified examples."
   ]
  },
  {
   "cell_type": "code",
   "execution_count": 8,
   "id": "10a11963-7cbb-4c70-8cd5-0776534ffd66",
   "metadata": {},
   "outputs": [],
   "source": [
    "def accuracy(labels, predictions):\n",
    "    acc = sum(abs(l - p) < 1e-5 for l, p in zip(labels, predictions))\n",
    "    acc = acc / len(labels)\n",
    "    return acc"
   ]
  },
  {
   "cell_type": "markdown",
   "id": "088f5d83-755e-4e40-8bf8-24c4624a69ad",
   "metadata": {},
   "source": [
    "## Step 8 :Cost Wrapper\n",
    "We define a cost wrapper function that takes the model parameters and the data as input and returns the cost.\n",
    "This step is crucial as it standardizes the cost calculation process, allowing for systematic adjustment of model parameters to minimize prediction errors and improve overall performance in supervised learning tasks."
   ]
  },
  {
   "cell_type": "code",
   "execution_count": 9,
   "id": "9ea2726e-cbfc-4181-9725-c08b258df54d",
   "metadata": {},
   "outputs": [],
   "source": [
    "def cost(weights, bias, X, Y):\n",
    "    predictions = [variational_classifier(weights, bias, x) for x in X]\n",
    "    return square_loss(Y, predictions)"
   ]
  },
  {
   "cell_type": "markdown",
   "id": "c9f2f947-730b-4d1d-85e3-684772822b7d",
   "metadata": {},
   "source": [
    "## Step 9: Data Loading and Preprocessing\n",
    "\n",
    "We load and preprocess the training data. The labels are shifted from {0, 1} to {-1, 1}."
   ]
  },
  {
   "cell_type": "code",
   "execution_count": 10,
   "id": "8ca2b9a4-fcea-4dcd-bf14-9528b6a3022c",
   "metadata": {},
   "outputs": [
    {
     "name": "stdout",
     "output_type": "stream",
     "text": [
      "x = [0 0 0 1], y = 1\n",
      "x = [0 0 1 0], y = 1\n",
      "x = [0 1 0 0], y = 1\n",
      "x = [0 1 0 1], y = -1\n",
      "x = [0 1 1 0], y = -1\n",
      "x = [0 1 1 1], y = 1\n",
      "x = [1 0 0 0], y = 1\n",
      "x = [1 0 0 1], y = -1\n",
      "x = [1 0 1 1], y = 1\n",
      "x = [1 1 1 1], y = -1\n"
     ]
    }
   ],
   "source": [
    "data = np.loadtxt(\"variational_classifier/data/parity_train.txt\", dtype=int)\n",
    "X = np.array(data[:, :-1])\n",
    "Y = np.array(data[:, -1])\n",
    "Y = Y * 2 - 1  # shift label from {0, 1} to {-1, 1}\n",
    "for x,y in zip(X, Y):\n",
    "    print(f\"x = {x}, y = {y}\")"
   ]
  },
  {
   "cell_type": "markdown",
   "id": "a6571748-7407-45e5-9d99-35a0db4dbfdc",
   "metadata": {},
   "source": [
    "## Step 10: Model Initialization\n",
    "We initialize the model parameters randomly and set a fixed seed for reproducibility.\n",
    "\n",
    "(In PennyLane, setting `requires_grad=True` during model initialization is significant because it flags the quantum operations (QNodes) to be differentiable with respect to their input parameters. This enables automatic differentiation techniques, such as gradient-based optimization algorithms, to compute gradients of the quantum circuit outputs with respect to the variational parameters. This capability is essential for training quantum machine learning models using gradient descent methods to minimize a defined cost or loss function.)"
   ]
  },
  {
   "cell_type": "code",
   "execution_count": 11,
   "id": "3ff58dfa-0f22-41cf-8067-62d97f1bbdb0",
   "metadata": {},
   "outputs": [
    {
     "name": "stdout",
     "output_type": "stream",
     "text": [
      "Weights: [[[ 0.01764052  0.00400157  0.00978738]\n",
      "  [ 0.02240893  0.01867558 -0.00977278]\n",
      "  [ 0.00950088 -0.00151357 -0.00103219]\n",
      "  [ 0.00410599  0.00144044  0.01454274]]\n",
      "\n",
      " [[ 0.00761038  0.00121675  0.00443863]\n",
      "  [ 0.00333674  0.01494079 -0.00205158]\n",
      "  [ 0.00313068 -0.00854096 -0.0255299 ]\n",
      "  [ 0.00653619  0.00864436 -0.00742165]]]\n",
      "Bias:  0.0\n"
     ]
    }
   ],
   "source": [
    "np.random.seed(0)\n",
    "num_qubits = 4\n",
    "num_layers = 2\n",
    "weights_init = 0.01 * np.random.randn(num_layers, num_qubits, 3, requires_grad=True)\n",
    "bias_init = np.array(0.0, requires_grad=True)\n",
    "\n",
    "print(\"Weights:\", weights_init)\n",
    "print(\"Bias: \", bias_init)"
   ]
  },
  {
   "cell_type": "markdown",
   "id": "51ecff28-9c26-45db-9ddf-681ecad6074f",
   "metadata": {},
   "source": [
    "## Step 11: Optimizer and Training\n",
    "We create an optimizer instance and choose a batch size. Then we train the model using the optimizer.\n",
    "\n",
    "In quantum machine learning, an optimizer is essential for adjusting the parameters of a quantum circuit to minimize a defined cost function, guiding the model towards better performance on a given task. By iteratively updating these parameters, the optimizer helps the quantum model learn patterns from the data, improving its accuracy and generalization capabilities.\n",
    "\n",
    "The Nesterov Momentum Optimizer is a variant of the traditional momentum optimizer commonly used in deep learning. It helps accelerate gradient descent by taking into account future gradients, improving convergence speed and stability in training neural networks."
   ]
  },
  {
   "cell_type": "code",
   "execution_count": 12,
   "id": "53589d00-1713-4169-afc1-e5266468eea3",
   "metadata": {},
   "outputs": [
    {
     "name": "stdout",
     "output_type": "stream",
     "text": [
      "Iter:    1 | Cost: 2.3147651 | Accuracy: 0.5000000\n",
      "Iter:    2 | Cost: 1.9664866 | Accuracy: 0.5000000\n",
      "Iter:    3 | Cost: 1.9208589 | Accuracy: 0.5000000\n",
      "Iter:    4 | Cost: 2.6276126 | Accuracy: 0.5000000\n",
      "Iter:    5 | Cost: 0.9323119 | Accuracy: 0.6000000\n",
      "Iter:    6 | Cost: 1.1903549 | Accuracy: 0.5000000\n",
      "Iter:    7 | Cost: 2.0508989 | Accuracy: 0.4000000\n",
      "Iter:    8 | Cost: 1.1275531 | Accuracy: 0.6000000\n",
      "Iter:    9 | Cost: 1.1659803 | Accuracy: 0.6000000\n",
      "Iter:   10 | Cost: 1.1349618 | Accuracy: 0.6000000\n",
      "Iter:   11 | Cost: 0.9994063 | Accuracy: 0.6000000\n",
      "Iter:   12 | Cost: 1.0812559 | Accuracy: 0.6000000\n",
      "Iter:   13 | Cost: 1.2863155 | Accuracy: 0.6000000\n",
      "Iter:   14 | Cost: 2.2658259 | Accuracy: 0.4000000\n",
      "Iter:   15 | Cost: 1.1323724 | Accuracy: 0.6000000\n",
      "Iter:   16 | Cost: 1.3439737 | Accuracy: 0.8000000\n",
      "Iter:   17 | Cost: 2.0076168 | Accuracy: 0.6000000\n",
      "Iter:   18 | Cost: 1.2685760 | Accuracy: 0.5000000\n",
      "Iter:   19 | Cost: 1.6762475 | Accuracy: 0.5000000\n",
      "Iter:   20 | Cost: 1.1868237 | Accuracy: 0.6000000\n",
      "Iter:   21 | Cost: 1.4784687 | Accuracy: 0.6000000\n",
      "Iter:   22 | Cost: 1.4599473 | Accuracy: 0.6000000\n",
      "Iter:   23 | Cost: 0.9573269 | Accuracy: 0.6000000\n",
      "Iter:   24 | Cost: 1.1657424 | Accuracy: 0.5000000\n",
      "Iter:   25 | Cost: 1.0877087 | Accuracy: 0.4000000\n",
      "Iter:   26 | Cost: 1.1683687 | Accuracy: 0.6000000\n",
      "Iter:   27 | Cost: 2.1141689 | Accuracy: 0.6000000\n",
      "Iter:   28 | Cost: 1.0272966 | Accuracy: 0.5000000\n",
      "Iter:   29 | Cost: 0.9664085 | Accuracy: 0.5000000\n",
      "Iter:   30 | Cost: 1.1287654 | Accuracy: 0.6000000\n",
      "Iter:   31 | Cost: 1.4202360 | Accuracy: 0.4000000\n",
      "Iter:   32 | Cost: 1.1286000 | Accuracy: 0.5000000\n",
      "Iter:   33 | Cost: 1.9594333 | Accuracy: 0.4000000\n",
      "Iter:   34 | Cost: 1.2811832 | Accuracy: 0.4000000\n",
      "Iter:   35 | Cost: 0.8522775 | Accuracy: 0.7000000\n",
      "Iter:   36 | Cost: 1.4765281 | Accuracy: 0.6000000\n",
      "Iter:   37 | Cost: 0.9603287 | Accuracy: 0.6000000\n",
      "Iter:   38 | Cost: 1.6031314 | Accuracy: 0.6000000\n",
      "Iter:   39 | Cost: 1.1700888 | Accuracy: 0.4000000\n",
      "Iter:   40 | Cost: 1.7571779 | Accuracy: 0.4000000\n",
      "Iter:   41 | Cost: 1.9608116 | Accuracy: 0.6000000\n",
      "Iter:   42 | Cost: 2.0802752 | Accuracy: 0.6000000\n",
      "Iter:   43 | Cost: 1.1904884 | Accuracy: 0.3000000\n",
      "Iter:   44 | Cost: 0.9941585 | Accuracy: 0.6000000\n",
      "Iter:   45 | Cost: 1.0709609 | Accuracy: 0.5000000\n",
      "Iter:   46 | Cost: 0.9780625 | Accuracy: 0.6000000\n",
      "Iter:   47 | Cost: 1.1573709 | Accuracy: 0.6000000\n",
      "Iter:   48 | Cost: 1.0235239 | Accuracy: 0.6000000\n",
      "Iter:   49 | Cost: 1.2842469 | Accuracy: 0.5000000\n",
      "Iter:   50 | Cost: 0.8549226 | Accuracy: 0.6000000\n",
      "Iter:   51 | Cost: 0.5136787 | Accuracy: 1.0000000\n",
      "Iter:   52 | Cost: 0.2488031 | Accuracy: 1.0000000\n",
      "Iter:   53 | Cost: 0.0461277 | Accuracy: 1.0000000\n",
      "Iter:   54 | Cost: 0.0293518 | Accuracy: 1.0000000\n",
      "Iter:   55 | Cost: 0.0205454 | Accuracy: 1.0000000\n",
      "Iter:   56 | Cost: 0.0352514 | Accuracy: 1.0000000\n",
      "Iter:   57 | Cost: 0.0576767 | Accuracy: 1.0000000\n",
      "Iter:   58 | Cost: 0.0291305 | Accuracy: 1.0000000\n",
      "Iter:   59 | Cost: 0.0127137 | Accuracy: 1.0000000\n",
      "Iter:   60 | Cost: 0.0058108 | Accuracy: 1.0000000\n",
      "Iter:   61 | Cost: 0.0018002 | Accuracy: 1.0000000\n",
      "Iter:   62 | Cost: 0.0014089 | Accuracy: 1.0000000\n",
      "Iter:   63 | Cost: 0.0017489 | Accuracy: 1.0000000\n",
      "Iter:   64 | Cost: 0.0021282 | Accuracy: 1.0000000\n",
      "Iter:   65 | Cost: 0.0029876 | Accuracy: 1.0000000\n",
      "Iter:   66 | Cost: 0.0035331 | Accuracy: 1.0000000\n",
      "Iter:   67 | Cost: 0.0035540 | Accuracy: 1.0000000\n",
      "Iter:   68 | Cost: 0.0025639 | Accuracy: 1.0000000\n",
      "Iter:   69 | Cost: 0.0019459 | Accuracy: 1.0000000\n",
      "Iter:   70 | Cost: 0.0015856 | Accuracy: 1.0000000\n",
      "Iter:   71 | Cost: 0.0008439 | Accuracy: 1.0000000\n",
      "Iter:   72 | Cost: 0.0005960 | Accuracy: 1.0000000\n",
      "Iter:   73 | Cost: 0.0003122 | Accuracy: 1.0000000\n",
      "Iter:   74 | Cost: 0.0002446 | Accuracy: 1.0000000\n",
      "Iter:   75 | Cost: 0.0001745 | Accuracy: 1.0000000\n",
      "Iter:   76 | Cost: 0.0001215 | Accuracy: 1.0000000\n",
      "Iter:   77 | Cost: 0.0001141 | Accuracy: 1.0000000\n",
      "Iter:   78 | Cost: 0.0001538 | Accuracy: 1.0000000\n",
      "Iter:   79 | Cost: 0.0001871 | Accuracy: 1.0000000\n",
      "Iter:   80 | Cost: 0.0001330 | Accuracy: 1.0000000\n",
      "Iter:   81 | Cost: 0.0001380 | Accuracy: 1.0000000\n",
      "Iter:   82 | Cost: 0.0001336 | Accuracy: 1.0000000\n",
      "Iter:   83 | Cost: 0.0001483 | Accuracy: 1.0000000\n",
      "Iter:   84 | Cost: 0.0001234 | Accuracy: 1.0000000\n",
      "Iter:   85 | Cost: 0.0001359 | Accuracy: 1.0000000\n",
      "Iter:   86 | Cost: 0.0001268 | Accuracy: 1.0000000\n",
      "Iter:   87 | Cost: 0.0002270 | Accuracy: 1.0000000\n",
      "Iter:   88 | Cost: 0.0000865 | Accuracy: 1.0000000\n",
      "Iter:   89 | Cost: 0.0000774 | Accuracy: 1.0000000\n",
      "Iter:   90 | Cost: 0.0000759 | Accuracy: 1.0000000\n",
      "Iter:   91 | Cost: 0.0000607 | Accuracy: 1.0000000\n",
      "Iter:   92 | Cost: 0.0000523 | Accuracy: 1.0000000\n",
      "Iter:   93 | Cost: 0.0000536 | Accuracy: 1.0000000\n",
      "Iter:   94 | Cost: 0.0000444 | Accuracy: 1.0000000\n",
      "Iter:   95 | Cost: 0.0000384 | Accuracy: 1.0000000\n",
      "Iter:   96 | Cost: 0.0000497 | Accuracy: 1.0000000\n",
      "Iter:   97 | Cost: 0.0000263 | Accuracy: 1.0000000\n",
      "Iter:   98 | Cost: 0.0000229 | Accuracy: 1.0000000\n",
      "Iter:   99 | Cost: 0.0000339 | Accuracy: 1.0000000\n",
      "Iter:  100 | Cost: 0.0000174 | Accuracy: 1.0000000\n"
     ]
    }
   ],
   "source": [
    "opt = NesterovMomentumOptimizer(0.5)\n",
    "batch_size = 5\n",
    "\n",
    "weights = weights_init\n",
    "bias = bias_init\n",
    "for it in range(100):\n",
    "    batch_index = np.random.randint(0, len(X), (batch_size,))\n",
    "    X_batch = X[batch_index]\n",
    "    Y_batch = Y[batch_index]\n",
    "    weights, bias = opt.step(cost, weights, bias, X=X_batch, Y=Y_batch)\n",
    "    predictions = [np.sign(variational_classifier(weights, bias, x)) for x in X]\n",
    "    current_cost = cost(weights, bias, X, Y)\n",
    "    acc = accuracy(Y, predictions)\n",
    "    print(f\"Iter: {it+1:4d} | Cost: {current_cost:0.7f} | Accuracy: {acc:0.7f}\")\n"
   ]
  },
  {
   "cell_type": "markdown",
   "id": "6a289141-3e15-44ce-a7df-defe770bf260",
   "metadata": {},
   "source": [
    "## Step 12: Evaluation on Unseen Data\n",
    "Finally, we evaluate the trained model on a test set of examples that were not used during training to see how well the model generalizes."
   ]
  },
  {
   "cell_type": "code",
   "execution_count": 13,
   "id": "978ef236-8209-4395-b550-7f8ad99466f5",
   "metadata": {},
   "outputs": [
    {
     "name": "stdout",
     "output_type": "stream",
     "text": [
      "x = [0 0 0 0], y = -1, pred=-1.0\n",
      "x = [0 0 1 1], y = -1, pred=-1.0\n",
      "x = [1 0 1 0], y = -1, pred=-1.0\n",
      "x = [1 1 1 0], y = 1, pred=1.0\n",
      "x = [1 1 0 0], y = -1, pred=-1.0\n",
      "x = [1 1 0 1], y = 1, pred=1.0\n",
      "Accuracy on unseen data: 1.0\n"
     ]
    }
   ],
   "source": [
    "data = np.loadtxt(\"variational_classifier/data/parity_test.txt\", dtype=int)\n",
    "X_test = np.array(data[:, :-1])\n",
    "Y_test = np.array(data[:, -1])\n",
    "Y_test = Y_test * 2 - 1  # shift label from {0, 1} to {-1, 1}\n",
    "\n",
    "predictions_test = [np.sign(variational_classifier(weights, bias, x)) for x in X_test]\n",
    "\n",
    "for x,y,p in zip(X_test, Y_test, predictions_test):\n",
    "    print(f\"x = {x}, y = {y}, pred={p}\")\n",
    "\n",
    "acc_test = accuracy(Y_test, predictions_test)\n",
    "print(\"Accuracy on unseen data:\", acc_test)\n"
   ]
  },
  {
   "cell_type": "markdown",
   "id": "c8e0981e-432b-4a86-9485-83ff49055e48",
   "metadata": {},
   "source": [
    "# EXAMPLE 2: IRIS CLASSIFICATION"
   ]
  },
  {
   "cell_type": "markdown",
   "id": "a250c628-f73a-4559-ab5e-0e242e09fd00",
   "metadata": {},
   "source": [
    "OVERVIEW:\r\n",
    "\r\n",
    "Step 1: Data Preparation and Preprocessing\r\n",
    "\r\n",
    "Purpose: To prepare the classical data for use in a quantum circuit.\r\n",
    "\r\n",
    "Explanation:\r\n",
    "1. Load the Iris dataset, which contains flower measurements.\r\n",
    "2. Select two features from the dataset (in this case, the first two dimensions).\r\n",
    "3. Pad the data with additional dimensions (called \"latent dimensions\") to match the size of the quantum state vector.\r\n",
    "4. Normalize the data to ensure all input vectors have the same length.\r\n",
    "5. Convert the normalized data into rotation angles for quantum state preparation.\r\n",
    "\r\n",
    "This step is crucial because quantum circuits operate on quantum states, not classical data directly. The preprocessing transforms classical data into a format suitable for quantum processing.\r\n",
    "\r\n",
    "Step 2: Quantum Circuit Design\r\n",
    "\r\n",
    "Purpose: To create a quantum circuit that can process the prepared data and perform classification.\r\n",
    "\r\n",
    "Explanation:\r\n",
    "1. Define a state preparation function that encodes the classical data into quantum states.\r\n",
    "2. Create a \"layer\" function that applies rotations and entanglement operations to the qubits.\r\n",
    "3. Implement the full variational classifier by combining state preparation and multiple layers.\r\n",
    "\r\n",
    "This quantum circuit acts as the core of the quantum machine learning model. It's designed to manipulate quantum states in a way that can separate different classes of data.\r\n",
    "\r\n",
    "Step 3: Cost Function Definition\r\n",
    "\r\n",
    "Purpose: To quantify how well the model is performing and guide the optimization process.\r\n",
    "\r\n",
    "Explanation:\r\n",
    "Define a cost function that measures the difference between the model's predictions and the true labels. In this case, it uses the square loss function.\r\n",
    "\r\n",
    "The cost function is crucial for training the model. It provides a single number that represents how far off the model's predictions are from the correct answers.\r\n",
    "\r\n",
    "Step 4: Data Splitting\r\n",
    "\r\n",
    "Purpose: To assess the model's ability to generalize to unseen data.\r\n",
    "\r\n",
    "Explanation:\r\n",
    "1. Randomly split the dataset into training and validation sets.\r\n",
    "2. Use 75% of the data for training and 25% for validation.\r\n",
    "\r\n",
    "This split allows us to train the model on one set of data and test its performance on another, unseen set. It helps detect overfitting, where a model performs well on training data but poorly on new data.\r\n",
    "\r\n",
    "Step 5: Model Initialization\r\n",
    "\r\n",
    "Purpose: To set up the initial state of the model before training.\r\n",
    "\r\n",
    "Explanation:\r\n",
    "1. Initialize the weights (parameters) of the quantum circuit randomly.\r\n",
    "2. Set up the optimizer (in this case, Nesterov Momentum Optimizer) that will update these weights during training.\r\n",
    "\r\n",
    "Initialization is important because it gives the optimization process a starting point. The choice of optimizer can affect how quickly and effectively the model learns.\r\n",
    "\r\n",
    "Step 6: Training Loop\r\n",
    "\r\n",
    "Purpose: To iteratively improve the model's performance on the training data.\r\n",
    "\r\n",
    "Explanation:\r\n",
    "1. For a set number of iterations:\r\n",
    "   a. Select a random batch of training data.\r\n",
    "   b. Compute the cost for this batch.\r\n",
    "   c. Use the optimizer to update the weights based on this cost.\r\n",
    "   d. Evaluate the model's accuracy on both training and validation sets.\r\n",
    "   e. Print out the results periodically.\r\n",
    "\r\n",
    "This is where the actual learning happens. The model repeatedly sees examples, makes predictions, and adjusts its parameters to improve those predictions.\r\n",
    "\r\n",
    "Step 7: Visualization and Evaluation\r\n",
    "\r\n",
    "Purpose: To understand and interpret the model's performance and decision-making.\r\n",
    "\r\n",
    "Explanation:\r\n",
    "1. Create a grid of points covering the feature space.\r\n",
    "2. Use the trained model to make predictions for each point on this grid.\r\n",
    "3. Plot these predictions as a color-coded contour map.\r\n",
    "4. Overlay the actual data points on this map.\r\n",
    "\r\n",
    "This visualization helps us see how the model is classifying different regions of the feature space and how well it separates the classes.\r\n",
    "\r\n",
    "In summary, this workflow takes classical data, prepares it for quantum processing, designs a quantum circuit to act as a classifier, trains this classifier using optimization techniques, and finally evaluates and visualizes its performance. This approach leverages quantum computations for machine learning tasks, potentially offering advantages over classical methods for certain types of problems."
   ]
  },
  {
   "cell_type": "markdown",
   "id": "6f6f388f-dd3d-43f2-9c8e-9493ce1afb64",
   "metadata": {},
   "source": [
    "NOTE : AMPLITUDE ENCODING APPROACH IS TAKEN.\n",
    "\n",
    "Amplitude encoding is a method of representing classical data in quantum states by encoding the data values directly into the amplitudes of a quantum state vector. This allows for a more compact representation of data compared to qubit encoding, as it can represent 2^n classical values using only n qubits, but it requires more complex state preparation procedures."
   ]
  },
  {
   "cell_type": "markdown",
   "id": "e5dead59-cf99-4c06-999c-4560b7f8d854",
   "metadata": {},
   "source": [
    "# Step 1: State Preparation\n",
    "Purpose: Convert classical data into a quantum state.\n",
    "\n",
    "Details:\n",
    "\n",
    "The state_preparation function takes the angles computed in the previous step and uses them to prepare the quantum state. This involves a series of rotations and CNOT gates."
   ]
  },
  {
   "cell_type": "code",
   "execution_count": 14,
   "id": "68a64d85-78ea-4979-bc90-a4020be84da3",
   "metadata": {},
   "outputs": [
    {
     "name": "stdout",
     "output_type": "stream",
     "text": [
      "x               :  [0.538968 0.795036 0.278265 0.      ]\n",
      "angles          :  [ 0.563975 -0.        0.       -0.975046  0.975046]\n",
      "amplitude vector:  [ 0.538968  0.795036  0.278265 -0.      ]\n"
     ]
    }
   ],
   "source": [
    "def get_angles(x):\n",
    "    beta0 = 2 * np.arcsin(np.sqrt(x[1] ** 2) / np.sqrt(x[0] ** 2 + x[1] ** 2 + 1e-12))\n",
    "    beta1 = 2 * np.arcsin(np.sqrt(x[3] ** 2) / np.sqrt(x[2] ** 2 + x[3] ** 2 + 1e-12))\n",
    "    beta2 = 2 * np.arcsin(np.linalg.norm(x[2:]) / np.linalg.norm(x))\n",
    "\n",
    "    return np.array([beta2, -beta1 / 2, beta1 / 2, -beta0 / 2, beta0 / 2])\n",
    "\n",
    "\n",
    "def state_preparation(a):\n",
    "    qml.RY(a[0], wires=0)\n",
    "\n",
    "    qml.CNOT(wires=[0, 1])\n",
    "    qml.RY(a[1], wires=1)\n",
    "    qml.CNOT(wires=[0, 1])\n",
    "    qml.RY(a[2], wires=1)\n",
    "\n",
    "    qml.PauliX(wires=0)\n",
    "    qml.CNOT(wires=[0, 1])\n",
    "    qml.RY(a[3], wires=1)\n",
    "    qml.CNOT(wires=[0, 1])\n",
    "    qml.RY(a[4], wires=1)\n",
    "    qml.PauliX(wires=0)\n",
    "\n",
    "#Testing \n",
    "x = np.array([0.53896774, 0.79503606, 0.27826503, 0.0], requires_grad=False)\n",
    "ang = get_angles(x)\n",
    "\n",
    "\n",
    "@qml.qnode(dev)\n",
    "def test(angles):\n",
    "    state_preparation(angles)\n",
    "\n",
    "    return qml.state()\n",
    "\n",
    "\n",
    "state = test(ang)\n",
    "\n",
    "print(\"x               : \", np.round(x, 6))\n",
    "print(\"angles          : \", np.round(ang, 6))\n",
    "print(\"amplitude vector: \", np.round(np.real(state), 6))"
   ]
  },
  {
   "cell_type": "markdown",
   "id": "e1d056a6-1cee-4e7a-9e35-7f8c6af589c6",
   "metadata": {},
   "source": [
    "# Step 2: Model Definition\n",
    "Purpose: Define the variational quantum classifier.\n",
    "\n",
    "Details:\n",
    "\n",
    "The model consists of several layers of quantum gates, parameterized by weights that will be optimized during training.\n",
    "\n",
    "The layer function defines a single layer of the quantum circuit, and the variational_classifier function stacks multiple layers to form the full model."
   ]
  },
  {
   "cell_type": "code",
   "execution_count": 15,
   "id": "56e44a95-4be3-49b2-aab7-7a9b87d6d01d",
   "metadata": {},
   "outputs": [],
   "source": [
    "def layer(layer_weights):\n",
    "    for wire in range(2):\n",
    "        qml.Rot(*layer_weights[wire], wires=wire)\n",
    "    qml.CNOT(wires=[0, 1])\n",
    "\n",
    "\n",
    "def cost(weights, bias, X, Y):\n",
    "    # Transpose the batch of input data in order to make the indexing\n",
    "    # in state_preparation work\n",
    "    predictions = variational_classifier(weights, bias, X.T)\n",
    "    return square_loss(Y, predictions)"
   ]
  },
  {
   "cell_type": "markdown",
   "id": "5091a4f8-5b6a-4334-8247-e822c5b59227",
   "metadata": {},
   "source": [
    "## Step 3: Data Preprocessing\n",
    "Purpose: The goal is to transform the raw Iris dataset into a form suitable for quantum computation.\n",
    "\n",
    "Details:\n",
    "\n",
    "-Load the Dataset: The Iris dataset is loaded. For simplicity, we will use a subset of the dataset that contains only two classes.\n",
    "\n",
    "-Padding: Each data point is padded with two additional dimensions (latent dimensions) to match the size of the quantum state vector.\n",
    "\n",
    "-Normalization: The padded data points are normalized so that their norm is 1. This is necessary because quantum states must be normalized.\n",
    "\n",
    "-Feature Extraction: The normalized data points are converted into a set of angles using the get_angles function. These angles will be used for state preparation in the quantum circuit."
   ]
  },
  {
   "cell_type": "code",
   "execution_count": 16,
   "id": "a14726a7-0f55-45f4-a4c1-f730bde9fc7f",
   "metadata": {},
   "outputs": [
    {
     "name": "stdout",
     "output_type": "stream",
     "text": [
      "First X sample (original)  : [0.4  0.75]\n",
      "First X sample (padded)    : [0.4  0.75 0.1  0.1 ]\n",
      "First X sample (normalized): [0.46420708 0.87038828 0.11605177 0.11605177]\n",
      "First features sample      : [ 0.32973573 -0.78539816  0.78539816 -1.080839    1.080839  ]\n"
     ]
    }
   ],
   "source": [
    "import matplotlib.pyplot as plt\n",
    "\n",
    "data = np.loadtxt(\"variational_classifier/data/iris_classes1and2_scaled.txt\")\n",
    "X = data[:, 0:2]\n",
    "print(f\"First X sample (original)  : {X[0]}\")\n",
    "\n",
    "# pad the vectors to size 2^2=4 with constant values\n",
    "padding = np.ones((len(X), 2)) * 0.1\n",
    "X_pad = np.c_[X, padding]\n",
    "print(f\"First X sample (padded)    : {X_pad[0]}\")\n",
    "\n",
    "# normalize each input\n",
    "normalization = np.sqrt(np.sum(X_pad**2, -1))\n",
    "X_norm = (X_pad.T / normalization).T\n",
    "print(f\"First X sample (normalized): {X_norm[0]}\")\n",
    "\n",
    "# the angles for state preparation are the features\n",
    "features = np.array([get_angles(x) for x in X_norm], requires_grad=False)\n",
    "print(f\"First features sample      : {features[0]}\")\n",
    "\n",
    "Y = data[:, -1]"
   ]
  },
  {
   "cell_type": "markdown",
   "id": "00842a6a-17b5-4bc9-9308-953a24b87929",
   "metadata": {},
   "source": [
    "Visualization:\n",
    "\n",
    "We plot the original, padded, and normalized data to understand how preprocessing changes the data distribution."
   ]
  },
  {
   "cell_type": "code",
   "execution_count": 17,
   "id": "21d636ed-52ce-4f83-9eff-2835711b2a20",
   "metadata": {},
   "outputs": [
    {
     "data": {
      "image/png": "[encoded data removed]",
      "text/plain": [
       "<Figure size 640x480 with 1 Axes>"
      ]
     },
     "metadata": {},
     "output_type": "display_data"
    },
    {
     "data": {
      "image/png": "[encoded data removed]",
      "text/plain": [
       "<Figure size 640x480 with 1 Axes>"
      ]
     },
     "metadata": {},
     "output_type": "display_data"
    },
    {
     "data": {
      "image/png": "[encoded data removed]",
      "text/plain": [
       "<Figure size 640x480 with 1 Axes>"
      ]
     },
     "metadata": {},
     "output_type": "display_data"
    }
   ],
   "source": [
    "plt.figure()\n",
    "plt.scatter(X[:, 0][Y == 1], X[:, 1][Y == 1], c=\"b\", marker=\"o\", ec=\"k\")\n",
    "plt.scatter(X[:, 0][Y == -1], X[:, 1][Y == -1], c=\"r\", marker=\"o\", ec=\"k\")\n",
    "plt.title(\"Original data\")\n",
    "plt.show()\n",
    "\n",
    "plt.figure()\n",
    "dim1 = 0\n",
    "dim2 = 1\n",
    "plt.scatter(X_norm[:, dim1][Y == 1], X_norm[:, dim2][Y == 1], c=\"b\", marker=\"o\", ec=\"k\")\n",
    "plt.scatter(X_norm[:, dim1][Y == -1], X_norm[:, dim2][Y == -1], c=\"r\", marker=\"o\", ec=\"k\")\n",
    "plt.title(f\"Padded and normalized data (dims {dim1} and {dim2})\")\n",
    "plt.show()\n",
    "\n",
    "plt.figure()\n",
    "dim1 = 0\n",
    "dim2 = 3\n",
    "plt.scatter(features[:, dim1][Y == 1], features[:, dim2][Y == 1], c=\"b\", marker=\"o\", ec=\"k\")\n",
    "plt.scatter(features[:, dim1][Y == -1], features[:, dim2][Y == -1], c=\"r\", marker=\"o\", ec=\"k\")\n",
    "plt.title(f\"Feature vectors (dims {dim1} and {dim2})\")\n",
    "plt.show()\n"
   ]
  },
  {
   "cell_type": "markdown",
   "id": "ed7d2c74-fdeb-40a8-94ac-005f83567c71",
   "metadata": {},
   "source": [
    "# Step 4: Training\n",
    "Purpose: Optimize the model parameters to minimize the cost function.\n",
    "\n",
    "Details:\n",
    "\n",
    "-The dataset is split into training and validation sets to monitor generalization performance.\n",
    "\n",
    "-The cost function used is the square loss, and we employ a Nesterov momentum optimizer to update the model parameters.\n",
    "\n",
    "-The model is trained for a fixed number of iterations, with predictions and accuracy computed on both training and validation sets at each iteration."
   ]
  },
  {
   "cell_type": "code",
   "execution_count": 18,
   "id": "fa81c1b5-47d5-4904-851b-bbd1fc45a5fb",
   "metadata": {},
   "outputs": [],
   "source": [
    "np.random.seed(0)\n",
    "num_data = len(Y)\n",
    "num_train = int(0.75 * num_data)\n",
    "index = np.random.permutation(range(num_data))\n",
    "feats_train = features[index[:num_train]]\n",
    "Y_train = Y[index[:num_train]]\n",
    "feats_val = features[index[num_train:]]\n",
    "Y_val = Y[index[num_train:]]\n",
    "\n",
    "# We need these later for plotting\n",
    "X_train = X[index[:num_train]]\n",
    "X_val = X[index[num_train:]]"
   ]
  },
  {
   "cell_type": "markdown",
   "id": "e8bbc2a6-470c-44a4-921b-64589646ed27",
   "metadata": {},
   "source": [
    "## Optimisation:"
   ]
  },
  {
   "cell_type": "code",
   "execution_count": 19,
   "id": "7d31d8f6-bfec-4c39-94ee-2677b2ac90fe",
   "metadata": {},
   "outputs": [],
   "source": [
    "num_qubits = 2\n",
    "num_layers = 6\n",
    "\n",
    "weights_init = 0.01 * np.random.randn(num_layers, num_qubits, 3, requires_grad=True)\n",
    "bias_init = np.array(0.0, requires_grad=True)"
   ]
  },
  {
   "cell_type": "code",
   "execution_count": 20,
   "id": "2d57e6f2-5b68-47c8-8344-dbaa37ed9c23",
   "metadata": {},
   "outputs": [
    {
     "name": "stdout",
     "output_type": "stream",
     "text": [
      "Iter:     2 | Cost: 1.6589456 | Acc train: 0.4800000 | Acc validation: 0.5600000\n",
      "Iter:     4 | Cost: 1.2054273 | Acc train: 0.4933333 | Acc validation: 0.5600000\n",
      "Iter:     6 | Cost: 0.9740740 | Acc train: 0.4933333 | Acc validation: 0.7200000\n",
      "Iter:     8 | Cost: 0.9660872 | Acc train: 0.6400000 | Acc validation: 0.6400000\n",
      "Iter:    10 | Cost: 0.9569019 | Acc train: 0.6000000 | Acc validation: 0.6000000\n",
      "Iter:    12 | Cost: 0.9445863 | Acc train: 0.4933333 | Acc validation: 0.7200000\n",
      "Iter:    14 | Cost: 1.0339978 | Acc train: 0.4800000 | Acc validation: 0.5600000\n",
      "Iter:    16 | Cost: 1.0774217 | Acc train: 0.4933333 | Acc validation: 0.5600000\n",
      "Iter:    18 | Cost: 0.9984426 | Acc train: 0.4800000 | Acc validation: 0.5600000\n",
      "Iter:    20 | Cost: 0.8975279 | Acc train: 0.5600000 | Acc validation: 0.7600000\n",
      "Iter:    22 | Cost: 0.8451699 | Acc train: 0.6400000 | Acc validation: 0.6400000\n",
      "Iter:    24 | Cost: 0.8337489 | Acc train: 0.5600000 | Acc validation: 0.5200000\n",
      "Iter:    26 | Cost: 0.7832025 | Acc train: 0.6000000 | Acc validation: 0.6000000\n",
      "Iter:    28 | Cost: 0.7397515 | Acc train: 0.6133333 | Acc validation: 0.6000000\n",
      "Iter:    30 | Cost: 0.6690522 | Acc train: 0.6666667 | Acc validation: 0.6400000\n",
      "Iter:    32 | Cost: 0.5640186 | Acc train: 0.8266667 | Acc validation: 0.8000000\n",
      "Iter:    34 | Cost: 0.4765597 | Acc train: 0.8933333 | Acc validation: 0.8800000\n",
      "Iter:    36 | Cost: 0.4144135 | Acc train: 0.9200000 | Acc validation: 0.9600000\n",
      "Iter:    38 | Cost: 0.3569566 | Acc train: 0.9600000 | Acc validation: 1.0000000\n",
      "Iter:    40 | Cost: 0.3186159 | Acc train: 0.9866667 | Acc validation: 1.0000000\n",
      "Iter:    42 | Cost: 0.2853043 | Acc train: 0.9866667 | Acc validation: 1.0000000\n",
      "Iter:    44 | Cost: 0.2652725 | Acc train: 1.0000000 | Acc validation: 1.0000000\n",
      "Iter:    46 | Cost: 0.2525848 | Acc train: 1.0000000 | Acc validation: 1.0000000\n",
      "Iter:    48 | Cost: 0.2444278 | Acc train: 1.0000000 | Acc validation: 1.0000000\n",
      "Iter:    50 | Cost: 0.2436316 | Acc train: 0.9866667 | Acc validation: 1.0000000\n",
      "Iter:    52 | Cost: 0.2376316 | Acc train: 1.0000000 | Acc validation: 1.0000000\n",
      "Iter:    54 | Cost: 0.2307475 | Acc train: 1.0000000 | Acc validation: 1.0000000\n",
      "Iter:    56 | Cost: 0.2341245 | Acc train: 1.0000000 | Acc validation: 1.0000000\n",
      "Iter:    58 | Cost: 0.2292663 | Acc train: 1.0000000 | Acc validation: 1.0000000\n",
      "Iter:    60 | Cost: 0.2241948 | Acc train: 1.0000000 | Acc validation: 1.0000000\n"
     ]
    }
   ],
   "source": [
    "opt = NesterovMomentumOptimizer(0.01)\n",
    "batch_size = 5\n",
    "\n",
    "# train the variational classifier\n",
    "weights = weights_init\n",
    "bias = bias_init\n",
    "for it in range(60):\n",
    "    # Update the weights by one optimizer step\n",
    "    batch_index = np.random.randint(0, num_train, (batch_size,))\n",
    "    feats_train_batch = feats_train[batch_index]\n",
    "    Y_train_batch = Y_train[batch_index]\n",
    "    weights, bias, _, _ = opt.step(cost, weights, bias, feats_train_batch, Y_train_batch)\n",
    "\n",
    "    # Compute predictions on train and validation set\n",
    "    predictions_train = np.sign(variational_classifier(weights, bias, feats_train.T))\n",
    "    predictions_val = np.sign(variational_classifier(weights, bias, feats_val.T))\n",
    "\n",
    "    # Compute accuracy on train and validation set\n",
    "    acc_train = accuracy(Y_train, predictions_train)\n",
    "    acc_val = accuracy(Y_val, predictions_val)\n",
    "\n",
    "    if (it + 1) % 2 == 0:\n",
    "        _cost = cost(weights, bias, features, Y)\n",
    "        print(\n",
    "            f\"Iter: {it + 1:5d} | Cost: {_cost:0.7f} | \"\n",
    "            f\"Acc train: {acc_train:0.7f} | Acc validation: {acc_val:0.7f}\"\n",
    "        )"
   ]
  },
  {
   "cell_type": "markdown",
   "id": "876a26c5-f9b0-4ab2-b1aa-4373fab35b63",
   "metadata": {},
   "source": [
    "## Step 5: Evaluation\n",
    "Purpose: Assess the performance of the trained model.\n",
    "\n",
    "Details:\n",
    "\n",
    "After training, we visualize the decision boundary learned by the model and plot the classification results on the training and validation sets."
   ]
  },
  {
   "cell_type": "code",
   "execution_count": 21,
   "id": "bb3a7275-b35b-4fed-94f4-8345e65056ff",
   "metadata": {},
   "outputs": [
    {
     "data": {
      "image/png": "[encoded data removed]",
      "text/plain": [
       "<Figure size 640x480 with 2 Axes>"
      ]
     },
     "metadata": {},
     "output_type": "display_data"
    }
   ],
   "source": [
    "plt.figure()\n",
    "cm = plt.cm.RdBu\n",
    "\n",
    "# make data for decision regions\n",
    "xx, yy = np.meshgrid(np.linspace(0.0, 1.5, 30), np.linspace(0.0, 1.5, 30))\n",
    "X_grid = [np.array([x, y]) for x, y in zip(xx.flatten(), yy.flatten())]\n",
    "\n",
    "# preprocess grid points like data inputs above\n",
    "padding = 0.1 * np.ones((len(X_grid), 2))\n",
    "X_grid = np.c_[X_grid, padding]  # pad each input\n",
    "normalization = np.sqrt(np.sum(X_grid**2, -1))\n",
    "X_grid = (X_grid.T / normalization).T  # normalize each input\n",
    "features_grid = np.array([get_angles(x) for x in X_grid])  # angles are new features\n",
    "predictions_grid = variational_classifier(weights, bias, features_grid.T)\n",
    "Z = np.reshape(predictions_grid, xx.shape)\n",
    "\n",
    "# plot decision regions\n",
    "levels = np.arange(-1, 1.1, 0.1)\n",
    "cnt = plt.contourf(xx, yy, Z, levels=levels, cmap=cm, alpha=0.8, extend=\"both\")\n",
    "plt.contour(xx, yy, Z, levels=[0.0], colors=(\"black\",), linestyles=(\"--\",), linewidths=(0.8,))\n",
    "plt.colorbar(cnt, ticks=[-1, 0, 1])\n",
    "\n",
    "# plot data\n",
    "for color, label in zip([\"b\", \"r\"], [1, -1]):\n",
    "    plot_x = X_train[:, 0][Y_train == label]\n",
    "    plot_y = X_train[:, 1][Y_train == label]\n",
    "    plt.scatter(plot_x, plot_y, c=color, marker=\"o\", ec=\"k\", label=f\"class {label} train\")\n",
    "    plot_x = (X_val[:, 0][Y_val == label],)\n",
    "    plot_y = (X_val[:, 1][Y_val == label],)\n",
    "    plt.scatter(plot_x, plot_y, c=color, marker=\"^\", ec=\"k\", label=f\"class {label} validation\")\n",
    "\n",
    "plt.legend()\n",
    "plt.show()"
   ]
  }
 ],
 "metadata": {
  "kernelspec": {
   "display_name": "Python 3 (ipykernel)",
   "language": "python",
   "name": "python3"
  },
  "language_info": {
   "codemirror_mode": {
    "name": "ipython",
    "version": 3
   },
   "file_extension": ".py",
   "mimetype": "text/x-python",
   "name": "python",
   "nbconvert_exporter": "python",
   "pygments_lexer": "ipython3",
   "version": "3.11.9"
  }
 },
 "nbformat": 4,
 "nbformat_minor": 5
}
